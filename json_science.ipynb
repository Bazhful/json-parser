{
 "cells": [
  {
   "cell_type": "code",
   "execution_count": 1,
   "id": "f50c5946",
   "metadata": {},
   "outputs": [
    {
     "name": "stdout",
     "output_type": "stream",
     "text": [
      "<_io.TextIOWrapper name='bitwarden_export.json' mode='r' encoding='cp1252'>\n"
     ]
    }
   ],
   "source": [
    "import json\n",
    "import sys\n",
    "from typing import Dict, List\n",
    "from typing import NewType\n",
    "\n",
    "pass_ob = []\n",
    "\n",
    "\n",
    "class PassVerify:\n",
    "    \n",
    "    def __init__(self, id_main: str, id_hash: str, username: str, password: str, name: str) -> object:\n",
    "\n",
    "        self.id_main: str= id_main\n",
    "        self.id_hash: str = id_hash\n",
    "        self.user: str = username\n",
    "        self.passw: str = password\n",
    "        self.name: str = name\n",
    "        self.ref: List[str] = [self.user, self.passw, self.name]\n",
    "\n",
    "            \n",
    "def list_dups(struct_list):\n",
    "    \n",
    "    sus_dupes = []\n",
    "    dupes = []\n",
    "    \n",
    "    listele = len(struct_list) - 1\n",
    "    \n",
    "    for jndex, obj in enumerate(struct_list):\n",
    "        if jndex < listele:\n",
    "            for obj2 in struct_list[int(jndex + 1):]: \n",
    "                #print(obj.id_main[1])\n",
    "                if str(obj.ref[0]) in str(obj2.ref[0]):\n",
    "                    #print(\"first\")\n",
    "                    if str(obj.ref[1]) in str(obj2.ref[1]):\n",
    "                        #rint(\"secound\")\n",
    "                        if str(obj.ref[2]) in str(obj2.ref[2]):\n",
    "                            most = [obj, obj2]\n",
    "                            sus_dupes.append(most)\n",
    "                            break\n",
    "    \n",
    "    \n",
    "    for j, i in enumerate(sus_dupes):\n",
    "        x1 = sys.getsizeof(sus_dupes[j][0])\n",
    "        x2 = sys.getsizeof(sus_dupes[j][1])\n",
    "        \n",
    "        if x1 >= x2:\n",
    "            dupes.append(sus_dupes[j][0].id_main)\n",
    "        elif x2 > x1:\n",
    "            dupes.append(sus_dupes[j][1].id_main)\n",
    "            \n",
    "    return dupes\n",
    "    \n",
    "                #if obj.ref[0] in obj2.ref[0]:\n",
    "                    #print(12)\n",
    "                    \n",
    "                    \n",
    "        \n",
    "             \n",
    "def main():\n",
    "    v1 = \"default\"\n",
    "    j1 = []\n",
    "\n",
    "    \n",
    "    \n",
    "    with open('bitwarden_export.json') as f:\n",
    "        print(f)\n",
    "        data = json.load(f)\n",
    "        v1 = data\n",
    "        for j, i in enumerate(data[\"items\"]):\n",
    "            try:\n",
    "                id_obj = j\n",
    "                user_obj = data[\"items\"][j][\"login\"][\"username\"]\n",
    "                pass_obj = data[\"items\"][j][\"login\"][\"password\"]\n",
    "                id_hash = data[\"items\"][j][\"id\"]\n",
    "                name_obj = data[\"items\"][j][\"name\"]\n",
    "                pass_ob.append(PassVerify(id_obj, id_hash, user_obj, pass_obj, name_obj))\n",
    "            except: True\n",
    "            \n",
    "        dupes = list_dups(pass_ob)\n",
    "\n",
    "        with ope n('update_export.json') as f2:\n",
    "            data2 = json.load(f2)\n",
    "            count = 0\n",
    "            for j, i in enumerate(v1[\"items\"]):\n",
    "                try:\n",
    "                    if j in dupes:\n",
    "                        a = 13\n",
    "\n",
    "                    else: \n",
    "                        data2.append(v1[\"items\"][j])\n",
    "                        data2 = json.dumps(data2, f2)\n",
    "                        #print(data2)\n",
    "                        \n",
    "                        \n",
    "                        \n",
    "                except: pass\n",
    "            \n",
    "            \n",
    "            \n",
    "if __name__  == \"__main__\":\n",
    "    main()"
   ]
  },
  {
   "cell_type": "code",
   "execution_count": 26,
   "id": "979d7e56",
   "metadata": {},
   "outputs": [
    {
     "name": "stdout",
     "output_type": "stream",
     "text": [
      "name\n"
     ]
    }
   ],
   "source": []
  },
  {
   "cell_type": "code",
   "execution_count": 106,
   "id": "40cae615",
   "metadata": {},
   "outputs": [
    {
     "data": {
      "text/plain": [
       "57"
      ]
     },
     "execution_count": 106,
     "metadata": {},
     "output_type": "execute_result"
    }
   ],
   "source": [
    "import sys\n",
    "\n",
    "a = \"12\"\n",
    "sys.getsizeof(a)"
   ]
  },
  {
   "cell_type": "code",
   "execution_count": null,
   "id": "9134958c",
   "metadata": {},
   "outputs": [],
   "source": [
    "from typing import List\n",
    "\n",
    "class PassVerify:\n",
    "    \n",
    "    def __init__(self, id_main: tuple, id_hash: str, username: str, password: str, name: str) -> object:\n",
    "        self.id_hash: str = id_hash\n",
    "        self.id_main:str = (id_main[0], id_main[1])\n",
    "        self.user: str = username\n",
    "        self.passw: str = password\n",
    "        self.name: str = name\n",
    "        self.ref: List[str] = [self.user.lower(), self.passw, self.name.lower()]\n",
    "            \n",
    "x = PassVerify((1, 6), \"hash\", \"username\", \"password\", \"name\")            \n",
    "print(x.ref[2])\n"
   ]
  }
 ],
 "metadata": {
  "interpreter": {
   "hash": "b3ba2566441a7c06988d0923437866b63cedc61552a5af99d1f4fb67d367b25f"
  },
  "kernelspec": {
   "display_name": "Python 3.8.8 64-bit ('base': conda)",
   "name": "python3"
  },
  "language_info": {
   "codemirror_mode": {
    "name": "ipython",
    "version": 3
   },
   "file_extension": ".py",
   "mimetype": "text/x-python",
   "name": "python",
   "nbconvert_exporter": "python",
   "pygments_lexer": "ipython3",
   "version": "3.8.8"
  }
 },
 "nbformat": 4,
 "nbformat_minor": 5
}
